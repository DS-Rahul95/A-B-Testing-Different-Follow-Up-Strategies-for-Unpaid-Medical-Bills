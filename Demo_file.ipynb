{
 "cells": [
  {
   "cell_type": "code",
   "execution_count": 36,
   "id": "788b40b4-d8a4-4bb5-967a-94273b062dbe",
   "metadata": {},
   "outputs": [],
   "source": [
    "import pandas as pd\n",
    "import numpy as np\n",
    "import os"
   ]
  },
  {
   "cell_type": "code",
   "execution_count": null,
   "id": "8e1f77af-6dc1-4472-be71-c4b1debeb4ce",
   "metadata": {},
   "outputs": [],
   "source": [
    "np.random.seed(42)\n",
    "n = 1500\n",
    "\n",
    "data = pd.DataFrame({\n",
    "    'Bill_id': range(1, n+1),\n",
    "    'Payer_type': np.random.choice(['Medicare', 'Medicaid', 'BCBS', 'Aetna', 'Other_Commercial', 'Workers_Compensation', 'No_Fault', 'Self_Pay'], n, p=[0.2, 0.05, 0.2, 0.1, 0.2, 0.1, 0.1, 0.05]),\n",
    "    'Balance_amount': np.random.choice([100, 300, 500, 800, 1000, 1200, 1500, 1800, 2100, 2500], n, p=[0.2, 0.15, 0.1, 0.1, 0.1, 0.1, 0.1, 0.05, 0.05,0.05 ]),\n",
    "    'Follow_up_Group': np.random.choice(['A', 'B'], n)\n",
    "})\n",
    "\n",
    "# Simulate payment status and time based on group and balance\n",
    "def simulate_payment(row):\n",
    "    if row['Follow_up_Group'] == 'B' and row['Balance_amount'] < 500:\n",
    "        paid = np.random.rand() < 0.6 # 60% payment rate for portal low balance\n",
    "        days = np.random.randint(1, 15) if paid else np.nan\n",
    "    elif row['Follow_up_Group'] == 'A' and row['Balance_amount'] > 1000:\n",
    "        paid = np.random.rand() <0.55 # 55 % payment rate calls for high balance\n",
    "        days = np.random.randint(5, 30) if paid else np.nan\n",
    "    else:\n",
    "        paid = np.random.rand() < 0.4\n",
    "        days = np.random.randint(10, 40) if paid else np.nan\n",
    "    return pd.Series([paid, days])\n",
    "\n",
    "data [['Payment_status', 'Payment_time_days']] = data.apply(simulate_payment, axis=1)\n",
    "data['Payment_status'] = data ['Payment_status'].map({True:'Paid', False:'Unpaid'})\n",
    "\n",
    "\n",
    "# Cost per Collection (calls cost more)\n",
    "data['cost_per_collection'] = data['Follow_up_Group'].apply(lambda x: np.random.uniform(5, 10) if x=='A' else np.random.uniform(1, 3))\n",
    "\n",
    "\n",
    "# Additional Engagement Matrix\n",
    "data['call_attempts'] = data['Follow_up_Group'].apply(lambda x: np.random.randint(1, 4) if x == 'A' else 0)\n",
    "data['portal_clicks'] = data['Follow_up_Group'].apply(lambda x: np.random.randint(0, 5) if x == 'B' else 0)\n",
    "\n",
    "os.makedirs('data', exist_ok = True)\n",
    "data.to_csv('data/demo_medical_bills.csv', index = False)\n",
    "\n",
    "print(\"File saved successfully\")"
   ]
  }
 ],
 "metadata": {
  "kernelspec": {
   "display_name": "Python 3 (ipykernel)",
   "language": "python",
   "name": "python3"
  },
  "language_info": {
   "codemirror_mode": {
    "name": "ipython",
    "version": 3
   },
   "file_extension": ".py",
   "mimetype": "text/x-python",
   "name": "python",
   "nbconvert_exporter": "python",
   "pygments_lexer": "ipython3",
   "version": "3.11.5"
  }
 },
 "nbformat": 4,
 "nbformat_minor": 5
}
