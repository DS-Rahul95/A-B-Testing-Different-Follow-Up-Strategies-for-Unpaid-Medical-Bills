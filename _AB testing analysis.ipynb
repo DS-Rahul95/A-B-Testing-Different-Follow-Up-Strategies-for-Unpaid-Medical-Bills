{
 "cells": [
  {
   "cell_type": "code",
   "execution_count": 36,
   "id": "788b40b4-d8a4-4bb5-967a-94273b062dbe",
   "metadata": {},
   "outputs": [],
   "source": [
    "import pandas as pd\n",
    "import numpy as np\n",
    "import os"
   ]
  },
  {
   "cell_type": "code",
   "execution_count": 66,
   "id": "8e1f77af-6dc1-4472-be71-c4b1debeb4ce",
   "metadata": {},
   "outputs": [
    {
     "name": "stdout",
     "output_type": "stream",
     "text": [
      "File saved successfully\n"
     ]
    }
   ],
   "source": [
    "np.random.seed(42)\n",
    "n = 1500\n",
    "\n",
    "data = pd.DataFrame({\n",
    "    'Bill_id': range(1, n+1),\n",
    "    'Payer_type': np.random.choice(['Medicare', 'Medicaid', 'BCBS', 'Aetna', 'Other_Commercial', 'Workers_Compensation', 'No_Fault', 'Self_Pay'], n, p=[0.2, 0.05, 0.2, 0.1, 0.2, 0.1, 0.1, 0.05]),\n",
    "    'Balance_amount': np.random.choice([100, 300, 500, 800, 1000, 1200, 1500, 1800, 2100, 2500], n, p=[0.2, 0.15, 0.1, 0.1, 0.1, 0.1, 0.1, 0.05, 0.05,0.05 ]),\n",
    "    'Follow_up_Group': np.random.choice(['A', 'B'], n)\n",
    "})\n",
    "\n",
    "# Simulate payment status and time based on group and balance\n",
    "def simulate_payment(row):\n",
    "    if row['Follow_up_Group'] == 'B':  # Portal group\n",
    "        # Higher payment rate and faster payment time due to higher throughput\n",
    "        paid = np.random.rand() < 0.65  # Increase from 0.6 to 0.65\n",
    "        days = np.random.randint(1, 10) if paid else np.nan  # Faster payments\n",
    "    elif row['Follow_up_Group'] == 'A':  # Calls group\n",
    "        paid = np.random.rand() < 0.45  # Lower payment rate\n",
    "        days = np.random.randint(7, 25) if paid else np.nan  # Slower payments\n",
    "    else:\n",
    "        paid = np.random.rand() < 0.4\n",
    "        days = np.random.randint(10, 40) if paid else np.nan\n",
    "    return pd.Series([paid, days])\n",
    "\n",
    "data [['Payment_status', 'Payment_time_days']] = data.apply(simulate_payment, axis=1)\n",
    "data['Payment_status'] = data ['Payment_status'].map({True:'Paid', False:'Unpaid'})\n",
    "\n",
    "\n",
    "# cost per collection\n",
    "data['cost_per_collection'] = data['Follow_up_Group'].apply(lambda x: np.random.uniform(6, 10) if x == 'A' else np.random.uniform(1, 3))\n",
    "\n",
    "# Additional Engagement Matrix\n",
    "data['call_attempts'] = data['Follow_up_Group'].apply(lambda x: np.random.randint(1, 4) if x == 'A' else 0)\n",
    "data['portal_clicks'] = data['Follow_up_Group'].apply(lambda x: np.random.randint(0, 5) if x == 'B' else 0)\n",
    "\n",
    "os.makedirs('data', exist_ok = True)\n",
    "data.to_csv('data/demo_medical_bills.csv', index = False)\n",
    "\n",
    "print(\"File saved successfully\")"
   ]
  },
  {
   "cell_type": "code",
   "execution_count": 67,
   "id": "cbcb6fc7-5b4c-43ce-a74d-b67a68362fd8",
   "metadata": {},
   "outputs": [],
   "source": [
    "import pandas as pd\n",
    "# Load data\n",
    "data = pd.read_csv('data/demo_medical_bills.csv')"
   ]
  },
  {
   "cell_type": "code",
   "execution_count": 68,
   "id": "b1ae754b-4790-4e73-aa00-9ff67d785663",
   "metadata": {},
   "outputs": [
    {
     "name": "stdout",
     "output_type": "stream",
     "text": [
      "<class 'pandas.core.frame.DataFrame'>\n",
      "RangeIndex: 1500 entries, 0 to 1499\n",
      "Data columns (total 9 columns):\n",
      " #   Column               Non-Null Count  Dtype  \n",
      "---  ------               --------------  -----  \n",
      " 0   Bill_id              1500 non-null   int64  \n",
      " 1   Payer_type           1500 non-null   object \n",
      " 2   Balance_amount       1500 non-null   int64  \n",
      " 3   Follow_up_Group      1500 non-null   object \n",
      " 4   Payment_status       1500 non-null   object \n",
      " 5   Payment_time_days    873 non-null    float64\n",
      " 6   cost_per_collection  1500 non-null   float64\n",
      " 7   call_attempts        1500 non-null   int64  \n",
      " 8   portal_clicks        1500 non-null   int64  \n",
      "dtypes: float64(2), int64(4), object(3)\n",
      "memory usage: 105.6+ KB\n",
      "None\n"
     ]
    }
   ],
   "source": [
    "print (data.info())"
   ]
  },
  {
   "cell_type": "code",
   "execution_count": 69,
   "id": "432c9aae-7ff3-4a8b-ab13-e5d9759e9d96",
   "metadata": {},
   "outputs": [
    {
     "name": "stdout",
     "output_type": "stream",
     "text": [
      "   Bill_id        Payer_type  Balance_amount Follow_up_Group Payment_status  \\\n",
      "0        1              BCBS             800               A         Unpaid   \n",
      "1        2          Self_Pay             800               A         Unpaid   \n",
      "2        3  Other_Commercial             100               A           Paid   \n",
      "3        4  Other_Commercial             300               B           Paid   \n",
      "4        5          Medicare             500               A         Unpaid   \n",
      "\n",
      "   Payment_time_days  cost_per_collection  call_attempts  portal_clicks  \n",
      "0                NaN             6.852141              1              0  \n",
      "1                NaN             8.431114              1              0  \n",
      "2               22.0             6.335164              2              0  \n",
      "3                9.0             2.286122              0              1  \n",
      "4                NaN             9.050136              2              0  \n"
     ]
    }
   ],
   "source": [
    "print(data.head())"
   ]
  },
  {
   "cell_type": "code",
   "execution_count": 70,
   "id": "979b1b41-d2b1-4440-88c4-eb5367b2660f",
   "metadata": {},
   "outputs": [],
   "source": [
    "# Handle missing payment_time_days for unpaid bills\n",
    "data['Payment_time_days'] = data['Payment_time_days'].fillna(-1)  # or another placeholder"
   ]
  },
  {
   "cell_type": "code",
   "execution_count": 71,
   "id": "debc4ef9-6a90-4cfb-8ce9-45285077e7be",
   "metadata": {},
   "outputs": [],
   "source": [
    "# Created binary payment flag\n",
    "data['is_paid'] = data['Payment_status'].apply(lambda x: 1 if x == 'Paid' else 0)"
   ]
  },
  {
   "cell_type": "code",
   "execution_count": 72,
   "id": "8f4cc9e7-5d11-4f9e-b378-40f61ef590ab",
   "metadata": {},
   "outputs": [
    {
     "name": "stdout",
     "output_type": "stream",
     "text": [
      "File saved successfully\n"
     ]
    }
   ],
   "source": [
    "# Saved cleaned data\n",
    "os.makedirs('data', exist_ok = True)\n",
    "data.to_csv('data/cleaned_medical_bills.csv', index=False)\n",
    "\n",
    "print(\"File saved successfully\")"
   ]
  },
  {
   "cell_type": "code",
   "execution_count": 73,
   "id": "cead5139-cdec-4f49-aaf9-df4bbac1d6ff",
   "metadata": {},
   "outputs": [],
   "source": [
    "from scipy.stats import chi2_contingency"
   ]
  },
  {
   "cell_type": "code",
   "execution_count": 74,
   "id": "f88e4cf2-0add-45e1-8a43-9f5d352b7e2e",
   "metadata": {},
   "outputs": [
    {
     "name": "stdout",
     "output_type": "stream",
     "text": [
      "Chi-square test p-value: 2.304313331048267e-12\n"
     ]
    }
   ],
   "source": [
    "# Contingency table for payment status by follow-up group\n",
    "contingency = pd.crosstab(data['Follow_up_Group'], data['is_paid'])\n",
    "chi2, p, dof, expected = chi2_contingency(contingency)\n",
    "print(f\"Chi-square test p-value: {p}\")"
   ]
  },
  {
   "cell_type": "code",
   "execution_count": 75,
   "id": "90530cba-62ef-42a3-a607-827475b82901",
   "metadata": {},
   "outputs": [
    {
     "name": "stdout",
     "output_type": "stream",
     "text": [
      "Significant difference in payment rates between groups\n"
     ]
    }
   ],
   "source": [
    "if p < 0.05:\n",
    "    print(\"Significant difference in payment rates between groups\")\n",
    "else:\n",
    "    print(\"No significant difference in payment rates\")"
   ]
  },
  {
   "cell_type": "code",
   "execution_count": 76,
   "id": "d0c81cf3-c15b-4f36-9aeb-a2a995266d79",
   "metadata": {},
   "outputs": [],
   "source": [
    "import seaborn as sns\n",
    "import matplotlib.pyplot as plt"
   ]
  },
  {
   "cell_type": "code",
   "execution_count": 77,
   "id": "c16a285a-f2f4-4de4-b17f-e97f2436d1cb",
   "metadata": {},
   "outputs": [
    {
     "data": {
      "image/png": "[encoded data removed]",
      "text/plain": [
       "<Figure size 640x480 with 1 Axes>"
      ]
     },
     "metadata": {},
     "output_type": "display_data"
    }
   ],
   "source": [
    "# Payment rate by follow-up group\n",
    "sns.barplot(x='Follow_up_Group', y='is_paid', data=data, estimator=lambda x: sum(x)/len(x))\n",
    "plt.title('Payment Rate by Follow-Up Group')\n",
    "plt.ylabel('Payment Rate')\n",
    "plt.show()"
   ]
  },
  {
   "cell_type": "code",
   "execution_count": 78,
   "id": "344e91dc-a6c6-4943-8201-e2185f145f4d",
   "metadata": {},
   "outputs": [
    {
     "data": {
      "image/png": "[encoded data removed]",
      "text/plain": [
       "<Figure size 640x480 with 1 Axes>"
      ]
     },
     "metadata": {},
     "output_type": "display_data"
    }
   ],
   "source": [
    "# Payment time distribution\n",
    "sns.boxplot(x='Follow_up_Group', y='Payment_time_days', data=data[data['Payment_time_days'] > 0])\n",
    "plt.title('Payment Time Distribution by Group')\n",
    "plt.ylabel('Days to Payment')\n",
    "plt.show()"
   ]
  }
 ],
 "metadata": {
  "kernelspec": {
   "display_name": "Python 3 (ipykernel)",
   "language": "python",
   "name": "python3"
  },
  "language_info": {
   "codemirror_mode": {
    "name": "ipython",
    "version": 3
   },
   "file_extension": ".py",
   "mimetype": "text/x-python",
   "name": "python",
   "nbconvert_exporter": "python",
   "pygments_lexer": "ipython3",
   "version": "3.11.5"
  }
 },
 "nbformat": 4,
 "nbformat_minor": 5
}
